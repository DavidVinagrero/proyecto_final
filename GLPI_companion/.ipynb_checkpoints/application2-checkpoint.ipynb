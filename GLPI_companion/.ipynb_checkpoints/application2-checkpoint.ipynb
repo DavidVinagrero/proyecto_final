{
 "cells": [
  {
   "cell_type": "code",
   "execution_count": 3,
   "id": "7ffd5280",
   "metadata": {},
   "outputs": [
    {
     "name": "stderr",
     "output_type": "stream",
     "text": [
      "C:\\Users\\david\\AppData\\Local\\Temp\\ipykernel_4604\\3099908797.py:3: DeprecationWarning: `import pandas_profiling` is going to be deprecated by April 1st. Please use `import ydata_profiling` instead.\n",
      "  from pandas_profiling import ProfileReport\n"
     ]
    }
   ],
   "source": [
    "import pandas as pd\n",
    "import seaborn as sns\n",
    "from pandas_profiling import ProfileReport"
   ]
  },
  {
   "cell_type": "code",
   "execution_count": null,
   "id": "91cd112b",
   "metadata": {},
   "outputs": [],
   "source": [
    "# Leer el archivo\n",
    "datos = pd.read_csv(\"datos.csv\", delimiter=\";\")\n",
    "# Mostrar las 5 primeras líneas\n",
    "datos.head()"
   ]
  },
  {
   "cell_type": "code",
   "execution_count": 16,
   "id": "4cf030f9",
   "metadata": {},
   "outputs": [
    {
     "name": "stdout",
     "output_type": "stream",
     "text": [
      "¿ Quieres ver el reporte ?n\n"
     ]
    },
    {
     "ename": "NameError",
     "evalue": "name 'y' is not defined",
     "output_type": "error",
     "traceback": [
      "\u001b[1;31m---------------------------------------------------------------------------\u001b[0m",
      "\u001b[1;31mNameError\u001b[0m                                 Traceback (most recent call last)",
      "Cell \u001b[1;32mIn[16], line 6\u001b[0m\n\u001b[0;32m      4\u001b[0m \u001b[38;5;66;03m# Mostrar el reporte\u001b[39;00m\n\u001b[0;32m      5\u001b[0m respuesta \u001b[38;5;241m=\u001b[39m \u001b[38;5;28minput\u001b[39m(\u001b[38;5;124m\"\u001b[39m\u001b[38;5;124m¿ Quieres ver el reporte ?\u001b[39m\u001b[38;5;124m\"\u001b[39m)\n\u001b[1;32m----> 6\u001b[0m \u001b[38;5;28;01mif\u001b[39;00m respuesta \u001b[38;5;241m==\u001b[39m \u001b[43my\u001b[49m:\n\u001b[0;32m      7\u001b[0m     reporte\n",
      "\u001b[1;31mNameError\u001b[0m: name 'y' is not defined"
     ]
    }
   ],
   "source": [
    "# Crear el reporte\n",
    "reporte = ProfileReport(datos, title = \"Primer reporte\")\n",
    "\n",
    "# Mostrar el reporte\n",
    "respuesta = input(\"¿ Quieres ver el reporte ?\")\n",
    "if respuesta == \"y\":\n",
    "    reporte"
   ]
  }
 ],
 "metadata": {
  "kernelspec": {
   "display_name": "Python 3 (ipykernel)",
   "language": "python",
   "name": "python3"
  },
  "language_info": {
   "codemirror_mode": {
    "name": "ipython",
    "version": 3
   },
   "file_extension": ".py",
   "mimetype": "text/x-python",
   "name": "python",
   "nbconvert_exporter": "python",
   "pygments_lexer": "ipython3",
   "version": "3.10.9"
  }
 },
 "nbformat": 4,
 "nbformat_minor": 5
}
